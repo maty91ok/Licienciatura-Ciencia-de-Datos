{
  "nbformat": 4,
  "nbformat_minor": 0,
  "metadata": {
    "colab": {
      "provenance": [],
      "toc_visible": true,
      "include_colab_link": true
    },
    "kernelspec": {
      "name": "python3",
      "display_name": "Python 3"
    },
    "language_info": {
      "name": "python"
    }
  },
  "cells": [
    {
      "cell_type": "markdown",
      "metadata": {
        "id": "view-in-github",
        "colab_type": "text"
      },
      "source": [
        "<a href=\"https://colab.research.google.com/github/maty91ok/Licienciatura-Ciencia-de-Datos/blob/main/trabajo_practico_02_Cenevaro_Mat%C3%ADas.ipynb\" target=\"_parent\"><img src=\"https://colab.research.google.com/assets/colab-badge.svg\" alt=\"Open In Colab\"/></a>"
      ]
    },
    {
      "cell_type": "markdown",
      "source": [
        "# Trabajo Práctico 2"
      ],
      "metadata": {
        "id": "GZ3I6tMKimmf"
      }
    },
    {
      "cell_type": "markdown",
      "metadata": {
        "id": "WI7TRxkc3gW4"
      },
      "source": [
        "# Ejercicio 1\n",
        "\n",
        "Vamos a trabajar con el dataset [titanic.csv](https://drive.google.com/file/d/1X0hJDYfmBfB88t1A1DeXzPc5c_a0-YVu/view?usp=share_link) desde Google Drive."
      ]
    },
    {
      "cell_type": "code",
      "source": [],
      "metadata": {
        "id": "ncGLzRmkoc3j"
      },
      "execution_count": null,
      "outputs": []
    },
    {
      "cell_type": "markdown",
      "source": [
        "## Punto 1\n",
        "\n",
        "Descargar y levantar el dataset"
      ],
      "metadata": {
        "id": "5C1qxZkP7uSi"
      }
    },
    {
      "cell_type": "code",
      "source": [],
      "metadata": {
        "id": "t2vSzl7uoec2"
      },
      "execution_count": null,
      "outputs": []
    },
    {
      "cell_type": "markdown",
      "source": [
        "## Punto 2\n",
        "\n",
        "Mostrar por pantalla los nombres (columnas Name) ordenados alfabéticamente y segmentado por clase (columna Pclass) y numerados desde 0 para cada clase.\n",
        "\n",
        "Ejemplo:\n",
        "\n",
        "Clase x\n",
        "\n",
        "0 nombre\n",
        "\n",
        "1 nombre\n",
        "\n",
        "...\n",
        "\n",
        "\n",
        "Clase y\n",
        "\n",
        "0 nombre\n",
        "\n",
        "1 nombre\n",
        "\n",
        "..."
      ],
      "metadata": {
        "id": "tLWlUqGF7XiY"
      }
    },
    {
      "cell_type": "code",
      "source": [],
      "metadata": {
        "id": "q-J5qFNJoe-t"
      },
      "execution_count": null,
      "outputs": []
    },
    {
      "cell_type": "markdown",
      "source": [
        "\n",
        "## Punto 3\n",
        "\n",
        "Mostrar por pantalla el porcentaje de personas que sobrevivieron y murieron  (columna Survived).\n",
        "\n",
        "El valor 1 indica que está sobrevivio y 0 no.\n"
      ],
      "metadata": {
        "id": "9b9-F7m2DeHP"
      }
    },
    {
      "cell_type": "code",
      "source": [],
      "metadata": {
        "id": "Fr6eVCK0ofnO"
      },
      "execution_count": null,
      "outputs": []
    },
    {
      "cell_type": "markdown",
      "source": [
        "## Punto 4\n",
        "\n",
        "Mostrar por pantalla el porcentaje de personas que sobrevivieron (columna Survived) en cada clase (columna Pclass).\n",
        "\n",
        "El valor 1 indica que sobrevivio y 0 no."
      ],
      "metadata": {
        "id": "V25Yoo7oFyKC"
      }
    },
    {
      "cell_type": "code",
      "source": [],
      "metadata": {
        "id": "xKTllD-3ogM9"
      },
      "execution_count": null,
      "outputs": []
    },
    {
      "cell_type": "markdown",
      "source": [
        "## Punto 5\n",
        "\n",
        "Realizar un gráfico de barras horizontal con la cantidad de personas según la edad (columna Age). La franja es de 10 años, es decir, 0-9, 10-19, ..., 90-99."
      ],
      "metadata": {
        "id": "cGGoqxjjvhum"
      }
    },
    {
      "cell_type": "code",
      "source": [],
      "metadata": {
        "id": "7rekgvRgogye"
      },
      "execution_count": null,
      "outputs": []
    },
    {
      "cell_type": "markdown",
      "source": [
        "# Ejercicio 2\n",
        "\n",
        "Vamos a trabajar con el dataset [df_total.csv](https://drive.google.com/file/d/1lQv5L0uF7Gu4miEiQaxEMP2JHDLPHKIc/view?usp=share_link) desde Google Drive.\n"
      ],
      "metadata": {
        "id": "FYehCoBkFALp"
      }
    },
    {
      "cell_type": "markdown",
      "source": [
        "## Punto 1\n",
        "\n",
        "Descargar y levantar el dataset"
      ],
      "metadata": {
        "id": "0DAFMSuAeMSH"
      }
    },
    {
      "cell_type": "code",
      "source": [],
      "metadata": {
        "id": "HXFOpb-yohm2"
      },
      "execution_count": null,
      "outputs": []
    },
    {
      "cell_type": "markdown",
      "source": [
        "## Punto 2\n",
        "\n",
        "Crear un columna `person` y completarla con la búsqueda de la  entidad persona dentro de la columna `news`. La entidad persona es un nombre y apellido.\n",
        "\n",
        "Tiene que ser una aproximación. No va a ser perfecta por falta de contexto."
      ],
      "metadata": {
        "id": "P_eUuT5lfN6R"
      }
    },
    {
      "cell_type": "code",
      "source": [],
      "metadata": {
        "id": "FpDZ-xZBoiF2"
      },
      "execution_count": null,
      "outputs": []
    },
    {
      "cell_type": "markdown",
      "source": [
        "## Punto 3\n",
        "\n",
        "Crear un columna `domain` y completarla con el dominio del sitio dentro de la columna `url`. Un dominio es `larepublica.co`."
      ],
      "metadata": {
        "id": "25g6rDedfWmF"
      }
    },
    {
      "cell_type": "code",
      "source": [],
      "metadata": {
        "id": "Q_nqdkQ9oiie"
      },
      "execution_count": null,
      "outputs": []
    },
    {
      "cell_type": "markdown",
      "source": [
        "## Punto 4\n",
        "\n",
        "Crear una columna llamada `words` y contabilizar la cantidad de palabras que hay en la columna `news`."
      ],
      "metadata": {
        "id": "Iv989MBQfbZF"
      }
    },
    {
      "cell_type": "code",
      "source": [],
      "metadata": {
        "id": "_zyXuHwXoi_O"
      },
      "execution_count": null,
      "outputs": []
    },
    {
      "cell_type": "markdown",
      "source": [
        "## Punto 5\n",
        "\n",
        "Realizar un gráfico de barras donde muestre la cantidad de noticias por tipo (columna Type)."
      ],
      "metadata": {
        "id": "mFIhcIKjffd_"
      }
    },
    {
      "cell_type": "code",
      "source": [],
      "metadata": {
        "id": "qpcrgEhwojeA"
      },
      "execution_count": null,
      "outputs": []
    }
  ]
}