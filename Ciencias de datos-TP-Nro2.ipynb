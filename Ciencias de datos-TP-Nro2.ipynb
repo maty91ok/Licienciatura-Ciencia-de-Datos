{
  "cells": [
    {
      "cell_type": "markdown",
      "metadata": {
        "id": "view-in-github",
        "colab_type": "text"
      },
      "source": [
        "<a href=\"https://colab.research.google.com/github/maty91ok/Licienciatura-Ciencia-de-Datos/blob/main/Ciencias%20de%20datos-TP-Nro2.ipynb\" target=\"_parent\"><img src=\"https://colab.research.google.com/assets/colab-badge.svg\" alt=\"Open In Colab\"/></a>"
      ]
    },
    {
      "cell_type": "markdown",
      "id": "2902cc57",
      "metadata": {
        "id": "2902cc57"
      },
      "source": [
        "# NOMBRE: TP2\n",
        "\n",
        "El trabajo práctico consiste en responder una serie de preguntas utilizando mayormente las funciones de agrupamiento de pandas. Se utilizan dos archivos csv en google drive con información de emisión de gases de efecto invernadero provenientes de la FAO. Un archivo con datos correspondientes a todos los paises del mundo y el otro archivo solo con paises de América del Sur.\n",
        "\n",
        "Los datos con los que se trabjan correponden al año 2020 y son una porcion del dataset \"Emissions Totals\" de FAOSTAT que resume las emisiones de gases de efecto invernadero (GHG) generadas por los sistemas agroalimentarios y que se difunden en los dominios de Emisiones del Cambio Climático de FAOSTAT.\n",
        "\n",
        "Nota: Se recomienda revisar la descripción detallada del dataset en: [\"Emissions Totals\"](https://www.fao.org/faostat/es/#data/GT)"
      ]
    },
    {
      "cell_type": "markdown",
      "id": "15927c77",
      "metadata": {
        "id": "15927c77"
      },
      "source": [
        "## Preparación"
      ]
    },
    {
      "cell_type": "markdown",
      "id": "e34b9493",
      "metadata": {
        "id": "e34b9493"
      },
      "source": [
        "La siguiente celda prepara dos dataframe **ghg_mundo** y **ghg_amesur** leyendo archivos ubicados en google drive que contienen una porción del dataset Totales de Emisión de la FAOSTAT.\n",
        "\n",
        "**DataFrames**\n",
        "\n",
        "* **ghg_mundo**: contienen los datos de emision de todos los paises del mundo\n",
        "* **ghg_amesur**: contienen los datos de emision de los paises de america del sur\n",
        "\n",
        "**Columnas**\n",
        "\n",
        "* **Ambito** Dominio/ sección del dataset FAOSTAT, en este caso \"Emisiones Totales\"\n",
        "* **Area**   Pais de origen de las emisiones\n",
        "* **Elemento** Nombre del gas de efecto invernadero (GHG)\n",
        "* **Producto** Nombre del item/producto/accion que genera la emisión\n",
        "* **Año**      Año del valor informado\n",
        "* **\"Unidad** Unidad del valor informado (en miles de toneladas)\n",
        "* **Valor** Valor informado\n",
        "\n",
        "**Fuentes**\n",
        "\n",
        "* **Origen** [FAOSTAT Emissions Totals\"](https://www.fao.org/faostat/es/#data/GT)\n",
        "\n"
      ]
    },
    {
      "cell_type": "code",
      "execution_count": 2,
      "id": "252e140d",
      "metadata": {
        "id": "252e140d"
      },
      "outputs": [],
      "source": [
        "# inciamos parametros de pandas y numpy\n",
        "\n",
        "import pandas as pd\n",
        "import numpy as np\n",
        "\n",
        "# opciones de pandas\n",
        "pd.options.display.max_columns = 20\n",
        "pd.options.display.max_rows = 120\n",
        "pd.options.display.min_rows = 80\n",
        "pd.options.display.max_colwidth = 80\n",
        "#pd.options.display.precision = 5"
      ]
    },
    {
      "cell_type": "code",
      "source": [
        "# Esta celda prepara los dataframes necesarios para responder los ejercicios del trabajo práctico.\n",
        "url_mundo = \"https://drive.google.com/u/1/uc?id=1n_pkLS9Tn0K6yclNTzwYlAWRdHRqZM3a&export=download\"\n",
        "url_amesur = \"https://drive.google.com/u/1/uc?id=1vpEwDzzeiIiWM6-5LksiZNuKgy3DuDea&export=download\"\n",
        "\n",
        "# Preparamos los dos dataframe: ghg_mundo y ghg_amesur\n",
        "ghg_mundo = pd.read_csv(url_mundo)\n",
        "ghg_amesur = pd.read_csv(url_amesur)"
      ],
      "metadata": {
        "id": "hGmPtT9e31Rw"
      },
      "id": "hGmPtT9e31Rw",
      "execution_count": 3,
      "outputs": []
    },
    {
      "cell_type": "markdown",
      "id": "db48410a",
      "metadata": {
        "id": "db48410a"
      },
      "source": [
        "# Preguntas\n",
        "\n",
        "Utilizando los dataframe preparados arriba:\n",
        "\n",
        "* **ghg_mundo**: con los datos a nivel del mundo\n",
        "* **ghg_amesur**: con los datos de america del sur\n",
        "\n",
        "Responder las siguientes preguntas y ejercicios:"
      ]
    },
    {
      "cell_type": "code",
      "execution_count": 4,
      "id": "95d464d5",
      "metadata": {
        "id": "95d464d5",
        "colab": {
          "base_uri": "https://localhost:8080/"
        },
        "outputId": "b12b41e4-1cb1-4470-a7cf-561e23e5b58c"
      },
      "outputs": [
        {
          "output_type": "stream",
          "name": "stdout",
          "text": [
            "<class 'pandas.core.frame.DataFrame'>\n",
            "RangeIndex: 11436 entries, 0 to 11435\n",
            "Data columns (total 7 columns):\n",
            " #   Column    Non-Null Count  Dtype  \n",
            "---  ------    --------------  -----  \n",
            " 0   Ambito    11436 non-null  object \n",
            " 1   Area      11436 non-null  object \n",
            " 2   Elemento  11436 non-null  object \n",
            " 3   Producto  11436 non-null  object \n",
            " 4   Año       11436 non-null  int64  \n",
            " 5   Unidad    11436 non-null  object \n",
            " 6   Valor     11436 non-null  float64\n",
            "dtypes: float64(1), int64(1), object(5)\n",
            "memory usage: 625.5+ KB\n",
            "<class 'pandas.core.frame.DataFrame'>\n",
            "RangeIndex: 710 entries, 0 to 709\n",
            "Data columns (total 7 columns):\n",
            " #   Column    Non-Null Count  Dtype  \n",
            "---  ------    --------------  -----  \n",
            " 0   Ambito    710 non-null    object \n",
            " 1   Area      710 non-null    object \n",
            " 2   Elemento  710 non-null    object \n",
            " 3   Producto  710 non-null    object \n",
            " 4   Año       710 non-null    int64  \n",
            " 5   Unidad    710 non-null    object \n",
            " 6   Valor     710 non-null    float64\n",
            "dtypes: float64(1), int64(1), object(5)\n",
            "memory usage: 39.0+ KB\n"
          ]
        }
      ],
      "source": [
        "# 0. Muestre informacion de los dataframe ghg_mundo y de ghg_amesur cargados arriba\n",
        "ghg_mundo.info()\n",
        "ghg_amesur.info()"
      ]
    },
    {
      "cell_type": "code",
      "execution_count": 8,
      "id": "d7c7d8a3",
      "metadata": {
        "id": "d7c7d8a3",
        "colab": {
          "base_uri": "https://localhost:8080/"
        },
        "outputId": "5dd54897-6a80-4ecd-f3a4-e654e123576b"
      },
      "outputs": [
        {
          "output_type": "execute_result",
          "data": {
            "text/plain": [
              "array(['mil toneladas'], dtype=object)"
            ]
          },
          "metadata": {},
          "execution_count": 8
        }
      ],
      "source": [
        "# 1. Todos los valores informados tienen la misma unidad? (utilizar pd.unique())\n",
        "pd.unique(ghg_mundo['Unidad'])"
      ]
    },
    {
      "cell_type": "code",
      "execution_count": null,
      "id": "06942ad5",
      "metadata": {
        "id": "06942ad5"
      },
      "outputs": [],
      "source": [
        "# 2. Cuales son los gases de efecto invernadero (GHG) informados?\n",
        "\n"
      ]
    },
    {
      "cell_type": "code",
      "execution_count": null,
      "id": "2e381b53",
      "metadata": {
        "id": "2e381b53"
      },
      "outputs": [],
      "source": [
        "# 3. Cuales son los \"Productos\" que cuentan en la emisión de GHG a nivel mundial ?\n",
        "#    (Nota: IPPU corresponde a Industrial Process and Product Use)\n",
        "\n"
      ]
    },
    {
      "cell_type": "code",
      "source": [
        "# Mostrar los nombres de las columnas del DataFrame ghg_mundo\n",
        "print(ghg_mundo.columns)"
      ],
      "metadata": {
        "colab": {
          "base_uri": "https://localhost:8080/"
        },
        "id": "D_mT6moke3TS",
        "outputId": "5ffef37b-9f31-4277-bf52-cfd4118932f6"
      },
      "id": "D_mT6moke3TS",
      "execution_count": 9,
      "outputs": [
        {
          "output_type": "stream",
          "name": "stdout",
          "text": [
            "Index(['Ambito', 'Area', 'Elemento', 'Producto', 'Año', 'Unidad', 'Valor'], dtype='object')\n"
          ]
        }
      ]
    },
    {
      "cell_type": "code",
      "execution_count": null,
      "id": "6437e23b",
      "metadata": {
        "id": "6437e23b"
      },
      "outputs": [],
      "source": [
        "# 4. Cual es el total de emision mundial\n",
        "\n"
      ]
    },
    {
      "cell_type": "code",
      "execution_count": null,
      "id": "83ad9032",
      "metadata": {
        "id": "83ad9032"
      },
      "outputs": [],
      "source": [
        "# 5. Cuales son los paises que más emiten y cuales los que menos emiten?\n",
        "\n"
      ]
    },
    {
      "cell_type": "code",
      "execution_count": null,
      "id": "b30a5ad1",
      "metadata": {
        "id": "b30a5ad1"
      },
      "outputs": [],
      "source": [
        "# 6. Cuales es la cantidad total de cada gas emitidos a nivel mundial?\n",
        "\n",
        "\n"
      ]
    },
    {
      "cell_type": "code",
      "execution_count": null,
      "id": "075b3517",
      "metadata": {
        "id": "075b3517"
      },
      "outputs": [],
      "source": [
        "# 7. En américa del sur, cuales son los valores totales de cada gas emitido?\n",
        "\n"
      ]
    },
    {
      "cell_type": "code",
      "execution_count": null,
      "id": "a7bd8163",
      "metadata": {
        "id": "a7bd8163"
      },
      "outputs": [],
      "source": [
        "# 8. Basado en 6 y 7, indicar que porcentaje de cada gas\n",
        "#    corresponde a américa latina respecto del mundo.\n",
        "\n"
      ]
    },
    {
      "cell_type": "code",
      "execution_count": null,
      "id": "51902a6a",
      "metadata": {
        "id": "51902a6a"
      },
      "outputs": [],
      "source": [
        "# 9. En america del sur, que productos emiten más GHG y cuales menos (mostrar todos)?\n",
        "\n",
        "\n"
      ]
    },
    {
      "cell_type": "code",
      "execution_count": null,
      "id": "83774a84",
      "metadata": {
        "id": "83774a84"
      },
      "outputs": [],
      "source": [
        "# 10. Y en el mundo..., que productos emiten más GHG y cuales menos (mostrar todos)?\n",
        "\n"
      ]
    },
    {
      "cell_type": "code",
      "execution_count": null,
      "id": "3c27baec",
      "metadata": {
        "id": "3c27baec"
      },
      "outputs": [],
      "source": [
        "# 11. En América del Sur, cuales son los paises que más y menos emiten?\n",
        "\n"
      ]
    }
  ],
  "metadata": {
    "kernelspec": {
      "display_name": "Python 3 (ipykernel)",
      "language": "python",
      "name": "python3"
    },
    "language_info": {
      "codemirror_mode": {
        "name": "ipython",
        "version": 3
      },
      "file_extension": ".py",
      "mimetype": "text/x-python",
      "name": "python",
      "nbconvert_exporter": "python",
      "pygments_lexer": "ipython3",
      "version": "3.10.10"
    },
    "colab": {
      "provenance": [],
      "include_colab_link": true
    }
  },
  "nbformat": 4,
  "nbformat_minor": 5
}