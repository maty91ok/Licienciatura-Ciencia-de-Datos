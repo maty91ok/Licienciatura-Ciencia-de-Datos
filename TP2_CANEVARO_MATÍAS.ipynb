{
  "cells": [
    {
      "cell_type": "markdown",
      "metadata": {
        "id": "view-in-github",
        "colab_type": "text"
      },
      "source": [
        "<a href=\"https://colab.research.google.com/github/maty91ok/Licienciatura-Ciencia-de-Datos/blob/main/TP2_CANEVARO_MAT%C3%8DAS.ipynb\" target=\"_parent\"><img src=\"https://colab.research.google.com/assets/colab-badge.svg\" alt=\"Open In Colab\"/></a>"
      ]
    },
    {
      "cell_type": "markdown",
      "id": "2902cc57",
      "metadata": {
        "id": "2902cc57"
      },
      "source": [
        "# NOMBRE: TP2\n",
        "\n",
        "El trabajo práctico consiste en responder una serie de preguntas utilizando mayormente las funciones de agrupamiento de pandas. Se utilizan dos archivos csv en google drive con información de emisión de gases de efecto invernadero provenientes de la FAO. Un archivo con datos correspondientes a todos los paises del mundo y el otro archivo solo con paises de América del Sur.\n",
        "\n",
        "Los datos con los que se trabjan correponden al año 2020 y son una porcion del dataset \"Emissions Totals\" de FAOSTAT que resume las emisiones de gases de efecto invernadero (GHG) generadas por los sistemas agroalimentarios y que se difunden en los dominios de Emisiones del Cambio Climático de FAOSTAT.\n",
        "\n",
        "Nota: Se recomienda revisar la descripción detallada del dataset en: [\"Emissions Totals\"](https://www.fao.org/faostat/es/#data/GT)"
      ]
    },
    {
      "cell_type": "markdown",
      "id": "15927c77",
      "metadata": {
        "id": "15927c77"
      },
      "source": [
        "## Preparación"
      ]
    },
    {
      "cell_type": "markdown",
      "id": "e34b9493",
      "metadata": {
        "id": "e34b9493"
      },
      "source": [
        "La siguiente celda prepara dos dataframe **ghg_mundo** y **ghg_amesur** leyendo archivos ubicados en google drive que contienen una porción del dataset Totales de Emisión de la FAOSTAT.\n",
        "\n",
        "**DataFrames**\n",
        "\n",
        "* **ghg_mundo**: contienen los datos de emision de todos los paises del mundo\n",
        "* **ghg_amesur**: contienen los datos de emision de los paises de america del sur\n",
        "\n",
        "**Columnas**\n",
        "\n",
        "* **Ambito** Dominio/ sección del dataset FAOSTAT, en este caso \"Emisiones Totales\"\n",
        "* **Area**   Pais de origen de las emisiones\n",
        "* **Elemento** Nombre del gas de efecto invernadero (GHG)\n",
        "* **Producto** Nombre del item/producto/accion que genera la emisión\n",
        "* **Año**      Año del valor informado\n",
        "* **\"Unidad** Unidad del valor informado (en miles de toneladas)\n",
        "* **Valor** Valor informado\n",
        "\n",
        "**Fuentes**\n",
        "\n",
        "* **Origen** [FAOSTAT Emissions Totals\"](https://www.fao.org/faostat/es/#data/GT)\n",
        "\n"
      ]
    },
    {
      "cell_type": "code",
      "execution_count": null,
      "id": "252e140d",
      "metadata": {
        "id": "252e140d"
      },
      "outputs": [],
      "source": [
        "# inciamos parametros de pandas y numpy\n",
        "\n",
        "import pandas as pd\n",
        "import numpy as np\n",
        "\n",
        "# opciones de pandas\n",
        "pd.options.display.max_columns = 20\n",
        "pd.options.display.max_rows = 120\n",
        "pd.options.display.min_rows = 80\n",
        "pd.options.display.max_colwidth = 80\n",
        "# pd.options.display.precision = 5\n",
        "# pd.set_option('display.float_format', '{:.2f}'.format)"
      ]
    },
    {
      "cell_type": "code",
      "execution_count": null,
      "id": "hGmPtT9e31Rw",
      "metadata": {
        "id": "hGmPtT9e31Rw"
      },
      "outputs": [],
      "source": [
        "# Esta celda prepara los dataframes necesarios para responder los ejercicios del trabajo práctico.\n",
        "url_mundo = \"https://drive.google.com/u/1/uc?id=1n_pkLS9Tn0K6yclNTzwYlAWRdHRqZM3a&export=download\"\n",
        "url_amesur = \"https://drive.google.com/u/1/uc?id=1vpEwDzzeiIiWM6-5LksiZNuKgy3DuDea&export=download\"\n",
        "\n",
        "# Preparamos los dos dataframe: ghg_mundo y ghg_amesur\n",
        "ghg_mundo = pd.read_csv(url_mundo)\n",
        "ghg_amesur = pd.read_csv(url_amesur)"
      ]
    },
    {
      "cell_type": "markdown",
      "id": "db48410a",
      "metadata": {
        "id": "db48410a"
      },
      "source": [
        "# Preguntas\n",
        "\n",
        "Utilizando los dataframe preparados arriba:\n",
        "\n",
        "* **ghg_mundo**: con los datos a nivel del mundo\n",
        "* **ghg_amesur**: con los datos de america del sur\n",
        "\n",
        "Responder las siguientes preguntas y ejercicios:"
      ]
    },
    {
      "cell_type": "code",
      "execution_count": null,
      "id": "95d464d5",
      "metadata": {
        "colab": {
          "base_uri": "https://localhost:8080/"
        },
        "id": "95d464d5",
        "outputId": "1426fbe7-816d-4834-d11c-46db46a65aef"
      },
      "outputs": [
        {
          "name": "stdout",
          "output_type": "stream",
          "text": [
            "<class 'pandas.core.frame.DataFrame'>\n",
            "RangeIndex: 11436 entries, 0 to 11435\n",
            "Data columns (total 7 columns):\n",
            " #   Column    Non-Null Count  Dtype  \n",
            "---  ------    --------------  -----  \n",
            " 0   Ambito    11436 non-null  object \n",
            " 1   Area      11436 non-null  object \n",
            " 2   Elemento  11436 non-null  object \n",
            " 3   Producto  11436 non-null  object \n",
            " 4   Año       11436 non-null  int64  \n",
            " 5   Unidad    11436 non-null  object \n",
            " 6   Valor     11436 non-null  float64\n",
            "dtypes: float64(1), int64(1), object(5)\n",
            "memory usage: 625.5+ KB\n",
            "\n",
            "<class 'pandas.core.frame.DataFrame'>\n",
            "RangeIndex: 710 entries, 0 to 709\n",
            "Data columns (total 7 columns):\n",
            " #   Column    Non-Null Count  Dtype  \n",
            "---  ------    --------------  -----  \n",
            " 0   Ambito    710 non-null    object \n",
            " 1   Area      710 non-null    object \n",
            " 2   Elemento  710 non-null    object \n",
            " 3   Producto  710 non-null    object \n",
            " 4   Año       710 non-null    int64  \n",
            " 5   Unidad    710 non-null    object \n",
            " 6   Valor     710 non-null    float64\n",
            "dtypes: float64(1), int64(1), object(5)\n",
            "memory usage: 39.0+ KB\n"
          ]
        }
      ],
      "source": [
        "# 0. Muestre informacion de los dataframe ghg_mundo y de ghg_amesur cargados arriba\n",
        "ghg_mundo.info()\n",
        "print()\n",
        "ghg_amesur.info()"
      ]
    },
    {
      "cell_type": "code",
      "execution_count": null,
      "id": "VWgrbZQtcgZR",
      "metadata": {
        "colab": {
          "base_uri": "https://localhost:8080/",
          "height": 206
        },
        "id": "VWgrbZQtcgZR",
        "outputId": "f2f0d8b8-d708-4a09-f334-3253a646d037"
      },
      "outputs": [
        {
          "data": {
            "text/html": [
              "<div>\n",
              "<style scoped>\n",
              "    .dataframe tbody tr th:only-of-type {\n",
              "        vertical-align: middle;\n",
              "    }\n",
              "\n",
              "    .dataframe tbody tr th {\n",
              "        vertical-align: top;\n",
              "    }\n",
              "\n",
              "    .dataframe thead th {\n",
              "        text-align: right;\n",
              "    }\n",
              "</style>\n",
              "<table border=\"1\" class=\"dataframe\">\n",
              "  <thead>\n",
              "    <tr style=\"text-align: right;\">\n",
              "      <th></th>\n",
              "      <th>Ambito</th>\n",
              "      <th>Area</th>\n",
              "      <th>Elemento</th>\n",
              "      <th>Producto</th>\n",
              "      <th>Año</th>\n",
              "      <th>Unidad</th>\n",
              "      <th>Valor</th>\n",
              "    </tr>\n",
              "  </thead>\n",
              "  <tbody>\n",
              "    <tr>\n",
              "      <th>0</th>\n",
              "      <td>Totales de las emisiones</td>\n",
              "      <td>Afganistán</td>\n",
              "      <td>Emisiones (N2O)</td>\n",
              "      <td>Residuos agrícolas</td>\n",
              "      <td>2020</td>\n",
              "      <td>mil toneladas</td>\n",
              "      <td>1.6133</td>\n",
              "    </tr>\n",
              "    <tr>\n",
              "      <th>1</th>\n",
              "      <td>Totales de las emisiones</td>\n",
              "      <td>Afganistán</td>\n",
              "      <td>Emisiones (CH4)</td>\n",
              "      <td>Cultivo del arroz</td>\n",
              "      <td>2020</td>\n",
              "      <td>mil toneladas</td>\n",
              "      <td>20.6577</td>\n",
              "    </tr>\n",
              "    <tr>\n",
              "      <th>2</th>\n",
              "      <td>Totales de las emisiones</td>\n",
              "      <td>Afganistán</td>\n",
              "      <td>Emisiones (CH4)</td>\n",
              "      <td>Quemado de residuos agrícolas</td>\n",
              "      <td>2020</td>\n",
              "      <td>mil toneladas</td>\n",
              "      <td>3.4826</td>\n",
              "    </tr>\n",
              "    <tr>\n",
              "      <th>3</th>\n",
              "      <td>Totales de las emisiones</td>\n",
              "      <td>Afganistán</td>\n",
              "      <td>Emisiones (N2O)</td>\n",
              "      <td>Quemado de residuos agrícolas</td>\n",
              "      <td>2020</td>\n",
              "      <td>mil toneladas</td>\n",
              "      <td>0.0903</td>\n",
              "    </tr>\n",
              "    <tr>\n",
              "      <th>4</th>\n",
              "      <td>Totales de las emisiones</td>\n",
              "      <td>Afganistán</td>\n",
              "      <td>Emisiones (CH4)</td>\n",
              "      <td>Fermentación entérica</td>\n",
              "      <td>2020</td>\n",
              "      <td>mil toneladas</td>\n",
              "      <td>378.5858</td>\n",
              "    </tr>\n",
              "  </tbody>\n",
              "</table>\n",
              "</div>"
            ],
            "text/plain": [
              "                     Ambito        Area         Elemento  \\\n",
              "0  Totales de las emisiones  Afganistán  Emisiones (N2O)   \n",
              "1  Totales de las emisiones  Afganistán  Emisiones (CH4)   \n",
              "2  Totales de las emisiones  Afganistán  Emisiones (CH4)   \n",
              "3  Totales de las emisiones  Afganistán  Emisiones (N2O)   \n",
              "4  Totales de las emisiones  Afganistán  Emisiones (CH4)   \n",
              "\n",
              "                        Producto   Año         Unidad     Valor  \n",
              "0             Residuos agrícolas  2020  mil toneladas    1.6133  \n",
              "1              Cultivo del arroz  2020  mil toneladas   20.6577  \n",
              "2  Quemado de residuos agrícolas  2020  mil toneladas    3.4826  \n",
              "3  Quemado de residuos agrícolas  2020  mil toneladas    0.0903  \n",
              "4          Fermentación entérica  2020  mil toneladas  378.5858  "
            ]
          },
          "execution_count": 4,
          "metadata": {},
          "output_type": "execute_result"
        }
      ],
      "source": [
        "ghg_mundo.head()"
      ]
    },
    {
      "cell_type": "code",
      "execution_count": null,
      "id": "pISH_yJQciyw",
      "metadata": {
        "colab": {
          "base_uri": "https://localhost:8080/",
          "height": 206
        },
        "id": "pISH_yJQciyw",
        "outputId": "dc4dbb92-c75a-4825-f16a-21b7295c36f6"
      },
      "outputs": [
        {
          "data": {
            "text/html": [
              "<div>\n",
              "<style scoped>\n",
              "    .dataframe tbody tr th:only-of-type {\n",
              "        vertical-align: middle;\n",
              "    }\n",
              "\n",
              "    .dataframe tbody tr th {\n",
              "        vertical-align: top;\n",
              "    }\n",
              "\n",
              "    .dataframe thead th {\n",
              "        text-align: right;\n",
              "    }\n",
              "</style>\n",
              "<table border=\"1\" class=\"dataframe\">\n",
              "  <thead>\n",
              "    <tr style=\"text-align: right;\">\n",
              "      <th></th>\n",
              "      <th>Ambito</th>\n",
              "      <th>Area</th>\n",
              "      <th>Elemento</th>\n",
              "      <th>Producto</th>\n",
              "      <th>Año</th>\n",
              "      <th>Unidad</th>\n",
              "      <th>Valor</th>\n",
              "    </tr>\n",
              "  </thead>\n",
              "  <tbody>\n",
              "    <tr>\n",
              "      <th>0</th>\n",
              "      <td>Totales de las emisiones</td>\n",
              "      <td>Argentina</td>\n",
              "      <td>Emisiones (N2O)</td>\n",
              "      <td>Residuos agrícolas</td>\n",
              "      <td>2020</td>\n",
              "      <td>mil toneladas</td>\n",
              "      <td>27.9445</td>\n",
              "    </tr>\n",
              "    <tr>\n",
              "      <th>1</th>\n",
              "      <td>Totales de las emisiones</td>\n",
              "      <td>Argentina</td>\n",
              "      <td>Emisiones (CH4)</td>\n",
              "      <td>Cultivo del arroz</td>\n",
              "      <td>2020</td>\n",
              "      <td>mil toneladas</td>\n",
              "      <td>51.8840</td>\n",
              "    </tr>\n",
              "    <tr>\n",
              "      <th>2</th>\n",
              "      <td>Totales de las emisiones</td>\n",
              "      <td>Argentina</td>\n",
              "      <td>Emisiones (CH4)</td>\n",
              "      <td>Quemado de residuos agrícolas</td>\n",
              "      <td>2020</td>\n",
              "      <td>mil toneladas</td>\n",
              "      <td>29.2960</td>\n",
              "    </tr>\n",
              "    <tr>\n",
              "      <th>3</th>\n",
              "      <td>Totales de las emisiones</td>\n",
              "      <td>Argentina</td>\n",
              "      <td>Emisiones (N2O)</td>\n",
              "      <td>Quemado de residuos agrícolas</td>\n",
              "      <td>2020</td>\n",
              "      <td>mil toneladas</td>\n",
              "      <td>0.7595</td>\n",
              "    </tr>\n",
              "    <tr>\n",
              "      <th>4</th>\n",
              "      <td>Totales de las emisiones</td>\n",
              "      <td>Argentina</td>\n",
              "      <td>Emisiones (CH4)</td>\n",
              "      <td>Fermentación entérica</td>\n",
              "      <td>2020</td>\n",
              "      <td>mil toneladas</td>\n",
              "      <td>3225.4757</td>\n",
              "    </tr>\n",
              "  </tbody>\n",
              "</table>\n",
              "</div>"
            ],
            "text/plain": [
              "                     Ambito       Area         Elemento  \\\n",
              "0  Totales de las emisiones  Argentina  Emisiones (N2O)   \n",
              "1  Totales de las emisiones  Argentina  Emisiones (CH4)   \n",
              "2  Totales de las emisiones  Argentina  Emisiones (CH4)   \n",
              "3  Totales de las emisiones  Argentina  Emisiones (N2O)   \n",
              "4  Totales de las emisiones  Argentina  Emisiones (CH4)   \n",
              "\n",
              "                        Producto   Año         Unidad      Valor  \n",
              "0             Residuos agrícolas  2020  mil toneladas    27.9445  \n",
              "1              Cultivo del arroz  2020  mil toneladas    51.8840  \n",
              "2  Quemado de residuos agrícolas  2020  mil toneladas    29.2960  \n",
              "3  Quemado de residuos agrícolas  2020  mil toneladas     0.7595  \n",
              "4          Fermentación entérica  2020  mil toneladas  3225.4757  "
            ]
          },
          "execution_count": 5,
          "metadata": {},
          "output_type": "execute_result"
        }
      ],
      "source": [
        "ghg_amesur.head()"
      ]
    },
    {
      "cell_type": "code",
      "execution_count": null,
      "id": "d7c7d8a3",
      "metadata": {
        "colab": {
          "base_uri": "https://localhost:8080/"
        },
        "id": "d7c7d8a3",
        "outputId": "77855af3-1a1b-4115-9bcb-6c1f8ea599d5"
      },
      "outputs": [
        {
          "name": "stdout",
          "output_type": "stream",
          "text": [
            "La unidad de medida es: ['mil toneladas']\n"
          ]
        }
      ],
      "source": [
        "# 1. Todos los valores informados tienen la misma unidad? (utilizar pd.unique())\n",
        "unidad = ghg_mundo.Unidad.unique()\n",
        "print(f\"La unidad de medida es: {unidad}\")\n",
        "# RTA: Todos los valores informados tienen la misma unidad (miles de toneladas)."
      ]
    },
    {
      "cell_type": "code",
      "execution_count": null,
      "id": "06942ad5",
      "metadata": {
        "colab": {
          "base_uri": "https://localhost:8080/"
        },
        "id": "06942ad5",
        "outputId": "658fcd47-541f-4630-db67-6dbf33087e7e"
      },
      "outputs": [
        {
          "name": "stdout",
          "output_type": "stream",
          "text": [
            "Los gases de efecto invernadero son: 3\n",
            "\n",
            "Emisiones (N2O)\n",
            "Emisiones (CH4)\n",
            "Emisiones (CO2)\n"
          ]
        }
      ],
      "source": [
        "# 2. Cuales son los gases de efecto invernadero (GHG) informados?\n",
        "gases = ghg_mundo.Elemento.unique()\n",
        "print(f\"Los gases de efecto invernadero son: {len(gases)}\\n\")\n",
        "for gas in gases:\n",
        "  print(gas)"
      ]
    },
    {
      "cell_type": "code",
      "execution_count": null,
      "id": "2e381b53",
      "metadata": {
        "colab": {
          "base_uri": "https://localhost:8080/"
        },
        "id": "2e381b53",
        "outputId": "15a821ed-c935-4368-9852-b784594c87df"
      },
      "outputs": [
        {
          "name": "stdout",
          "output_type": "stream",
          "text": [
            "Los productos son: 30\n",
            "\n",
            "Residuos agrícolas\n",
            "Cultivo del arroz\n",
            "Quemado de residuos agrícolas\n",
            "Fermentación entérica\n",
            "Gestión del estiércol\n",
            "Estiércol depositado en las pasturas\n",
            "Estiércol aplicado a los suelos\n",
            "Fertilizantes sintéticos\n",
            "Suelos orgánicos drenados (CO2)\n",
            "Suelos orgánicos drenados (N2O)\n",
            "Tierras forestales\n",
            "Conversión neta de bosques\n",
            "Incendios de sabana\n",
            "Incendios en suelos de turba\n",
            "Incendios forestales\n",
            "Incendios en los bosques tropicales húmedos\n",
            "Eliminación de desechos de sistemas agroalimentarios\n",
            "Fabricación de fertilizantes\n",
            "Uso de electricidad en agrícola\n",
            "Venta de alimentos\n",
            "Consumo de alimentos en los hogares\n",
            "Transformación de alimentos\n",
            "Energía\n",
            "IPPU\n",
            "Desechos\n",
            "Otro\n",
            "On-farm energy use\n",
            "Fabricación de pesticidas\n",
            "Envasado alimentario\n",
            "On-farm Heat Use\n"
          ]
        }
      ],
      "source": [
        "# 3. Cuales son los \"Productos\" que cuentan en la emisión de GHG a nivel mundial ?\n",
        "#    (Nota: IPPU corresponde a Industrial Process and Product Use)\n",
        "productos = ghg_mundo.Producto.unique()\n",
        "print(f\"Los productos son: {len(productos)}\\n\")\n",
        "for producto in productos:\n",
        "  print(producto)\n"
      ]
    },
    {
      "cell_type": "code",
      "execution_count": null,
      "id": "6437e23b",
      "metadata": {
        "colab": {
          "base_uri": "https://localhost:8080/"
        },
        "id": "6437e23b",
        "outputId": "d9672b31-50b5-4492-ddb6-e938a307c0e0"
      },
      "outputs": [
        {
          "name": "stdout",
          "output_type": "stream",
          "text": [
            "El total de emision mundial es: 52464596.37980001\n"
          ]
        }
      ],
      "source": [
        "# 4. Cual es el total de emision mundial\n",
        "total = ghg_mundo.Valor.sum()\n",
        "print(f\"El total de emision mundial es: {total}\")"
      ]
    },
    {
      "cell_type": "code",
      "execution_count": null,
      "id": "83ad9032",
      "metadata": {
        "id": "83ad9032"
      },
      "outputs": [],
      "source": [
        "# 5. Cuales son los paises que más emiten y cuales los que menos emiten?\n",
        "df_agrupado = ghg_mundo.groupby('Area').Valor.sum()"
      ]
    },
    {
      "cell_type": "code",
      "execution_count": null,
      "id": "zw-ykxTFuMRh",
      "metadata": {
        "colab": {
          "base_uri": "https://localhost:8080/",
          "height": 464
        },
        "id": "zw-ykxTFuMRh",
        "outputId": "406c5869-cc90-4c6f-af6b-6ae387b8e897"
      },
      "outputs": [
        {
          "name": "stdout",
          "output_type": "stream",
          "text": [
            "Paises que mas emiten:\n",
            "\n"
          ]
        },
        {
          "data": {
            "text/plain": [
              "Area\n",
              "China                            1.216754e+07\n",
              "China, Continental               1.182300e+07\n",
              "Estados Unidos de América        4.752454e+06\n",
              "India                            2.827629e+06\n",
              "Federación de Rusia              1.474918e+06\n",
              "Indonesia                        1.183840e+06\n",
              "Japón                            1.113744e+06\n",
              "Brasil                           9.587748e+05\n",
              "Irán (República Islámica del)    8.670499e+05\n",
              "Canadá                           6.811759e+05\n",
              "Name: Valor, dtype: float64"
            ]
          },
          "execution_count": 11,
          "metadata": {},
          "output_type": "execute_result"
        }
      ],
      "source": [
        "print(\"Paises que mas emiten:\\n\")\n",
        "df_agrupado.sort_values(ascending=False).head(10)"
      ]
    },
    {
      "cell_type": "code",
      "execution_count": null,
      "id": "Ss7harpquZZY",
      "metadata": {
        "colab": {
          "base_uri": "https://localhost:8080/",
          "height": 464
        },
        "id": "Ss7harpquZZY",
        "outputId": "e1ce42ea-6096-4ba6-8847-d5067e50847e"
      },
      "outputs": [
        {
          "name": "stdout",
          "output_type": "stream",
          "text": [
            "Paises que menos emiten:\n",
            "\n"
          ]
        },
        {
          "data": {
            "text/plain": [
              "Area\n",
              "Ghana                                  -1214.1747\n",
              "Puerto Rico                             -738.6289\n",
              "Guam                                    -158.1811\n",
              "Islas Vírgenes de los Estados Unidos    -140.3563\n",
              "Sáhara Occidental                       -104.5657\n",
              "Martinica                                -16.1121\n",
              "Pitcairn                                   0.0000\n",
              "Islas Svalbard y Jan Mayen                 0.0000\n",
              "Tokelau                                    0.0210\n",
              "Isla Norfolk                               0.1275\n",
              "Name: Valor, dtype: float64"
            ]
          },
          "execution_count": 12,
          "metadata": {},
          "output_type": "execute_result"
        }
      ],
      "source": [
        "print(\"Paises que menos emiten:\\n\")\n",
        "df_agrupado.sort_values(ascending=True).head(10)"
      ]
    },
    {
      "cell_type": "code",
      "execution_count": null,
      "id": "b30a5ad1",
      "metadata": {
        "colab": {
          "base_uri": "https://localhost:8080/",
          "height": 244
        },
        "id": "b30a5ad1",
        "outputId": "8d023d16-7f1c-4f56-f627-ef9aea3177cf"
      },
      "outputs": [
        {
          "name": "stdout",
          "output_type": "stream",
          "text": [
            "La cantidad total de cada gas emitidos a nivel mundial es:\n",
            "\n"
          ]
        },
        {
          "data": {
            "text/plain": [
              "Elemento\n",
              "Emisiones (CO2)    5.197106e+07\n",
              "Emisiones (CH4)    4.798007e+05\n",
              "Emisiones (N2O)    1.373250e+04\n",
              "Name: Valor, dtype: float64"
            ]
          },
          "execution_count": 13,
          "metadata": {},
          "output_type": "execute_result"
        }
      ],
      "source": [
        "# 6. Cuales es la cantidad total de cada gas emitidos a nivel mundial?\n",
        "gases_total_mundial = ghg_mundo.groupby('Elemento').Valor.sum()\n",
        "print(\"La cantidad total de cada gas emitidos a nivel mundial es:\\n\")\n",
        "gases_total_mundial.sort_values(ascending=False)"
      ]
    },
    {
      "cell_type": "code",
      "execution_count": null,
      "id": "075b3517",
      "metadata": {
        "colab": {
          "base_uri": "https://localhost:8080/",
          "height": 244
        },
        "id": "075b3517",
        "outputId": "d1163be2-a759-4ba4-9d26-c29b06f12559"
      },
      "outputs": [
        {
          "name": "stdout",
          "output_type": "stream",
          "text": [
            "Los valores totales de cada gas emitido en America del Sur son:\n",
            "\n"
          ]
        },
        {
          "data": {
            "text/plain": [
              "Elemento\n",
              "Emisiones (CO2)    1.941784e+06\n",
              "Emisiones (CH4)    4.387610e+04\n",
              "Emisiones (N2O)    1.293212e+03\n",
              "Name: Valor, dtype: float64"
            ]
          },
          "execution_count": 14,
          "metadata": {},
          "output_type": "execute_result"
        }
      ],
      "source": [
        "# 7. En américa del sur, cuales son los valores totales de cada gas emitido?\n",
        "gases_total_amesur = ghg_amesur.groupby('Elemento').Valor.sum()\n",
        "print(\"Los valores totales de cada gas emitido en America del Sur son:\\n\")\n",
        "gases_total_amesur.sort_values(ascending=False)\n"
      ]
    },
    {
      "cell_type": "code",
      "execution_count": null,
      "id": "a7bd8163",
      "metadata": {
        "colab": {
          "base_uri": "https://localhost:8080/"
        },
        "id": "a7bd8163",
        "outputId": "8717568a-7a0d-49c2-b27f-eee40224027e"
      },
      "outputs": [
        {
          "name": "stdout",
          "output_type": "stream",
          "text": [
            "El porcentaje de cada gas correspondiente a America Latina respecto del mundo es:\n",
            "\n",
            "Emisiones (CO2): 3.74%\n",
            "Emisiones (CH4): 9.14%\n",
            "Emisiones (N2O): 9.42%\n"
          ]
        }
      ],
      "source": [
        "# 8. Basado en 6 y 7, indicar que porcentaje de cada gas\n",
        "#    corresponde a américa latina respecto del mundo.\n",
        "CO2_Procentaje = (gases_total_amesur['Emisiones (CO2)'] / gases_total_mundial['Emisiones (CO2)']) * 100\n",
        "CH4_Porcentaje = (gases_total_amesur['Emisiones (CH4)'] / gases_total_mundial['Emisiones (CH4)']) * 100\n",
        "N2O_Porcentaje = (gases_total_amesur['Emisiones (N2O)'] / gases_total_mundial['Emisiones (N2O)']) * 100\n",
        "print(\"El porcentaje de cada gas correspondiente a America Latina respecto del mundo es:\\n\")\n",
        "print(f\"Emisiones (CO2): {CO2_Procentaje:.2f}%\")\n",
        "print(f\"Emisiones (CH4): {CH4_Porcentaje:.2f}%\")\n",
        "print(f\"Emisiones (N2O): {N2O_Porcentaje:.2f}%\")"
      ]
    },
    {
      "cell_type": "code",
      "execution_count": null,
      "id": "51902a6a",
      "metadata": {
        "colab": {
          "base_uri": "https://localhost:8080/",
          "height": 1000
        },
        "id": "51902a6a",
        "outputId": "f1a687c8-ec36-4294-ace0-eaba0dfc8b7f"
      },
      "outputs": [
        {
          "name": "stdout",
          "output_type": "stream",
          "text": [
            "Los productos que emiten mas GHG en America del Sur son:\n",
            "\n"
          ]
        },
        {
          "data": {
            "text/plain": [
              "Producto\n",
              "Conversión neta de bosques                              1.085942e+06\n",
              "Energía                                                 9.313903e+05\n",
              "IPPU                                                    7.744939e+04\n",
              "Transformación de alimentos                             6.594470e+04\n",
              "On-farm energy use                                      4.105328e+04\n",
              "Consumo de alimentos en los hogares                     4.068189e+04\n",
              "Fermentación entérica                                   2.208144e+04\n",
              "Fabricación de pesticidas                               1.790700e+04\n",
              "Suelos orgánicos drenados (CO2)                         1.323091e+04\n",
              "Envasado alimentario                                    1.055078e+04\n",
              "Venta de alimentos                                      9.726588e+03\n",
              "Fabricación de fertilizantes                            9.469983e+03\n",
              "Desechos                                                9.355355e+03\n",
              "Uso de electricidad en agrícola                         5.861092e+03\n",
              "Eliminación de desechos de sistemas agroalimentarios    4.452285e+03\n",
              "Incendios forestales                                    6.889487e+02\n",
              "Incendios en los bosques tropicales húmedos             6.400145e+02\n",
              "Cultivo del arroz                                       6.285226e+02\n",
              "Estiércol depositado en las pasturas                    6.036305e+02\n",
              "Gestión del estiércol                                   5.723900e+02\n",
              "Incendios de sabana                                     5.434081e+02\n",
              "Fertilizantes sintéticos                                1.902986e+02\n",
              "Quemado de residuos agrícolas                           1.195154e+02\n",
              "Residuos agrícolas                                      8.995760e+01\n",
              "Estiércol aplicado a los suelos                         6.099010e+01\n",
              "Otro                                                    3.954900e+01\n",
              "Suelos orgánicos drenados (N2O)                         4.178200e+00\n",
              "Incendios en suelos de turba                            0.000000e+00\n",
              "Tierras forestales                                     -3.623249e+05\n",
              "Name: Valor, dtype: float64"
            ]
          },
          "execution_count": 16,
          "metadata": {},
          "output_type": "execute_result"
        }
      ],
      "source": [
        "# 9. En america del sur, que productos emiten más GHG y cuales menos (mostrar todos)?\n",
        "productos_agrupados_amesur = ghg_amesur.groupby('Producto').Valor.sum().sort_values(ascending=False)\n",
        "print(\"Los productos que emiten mas GHG en America del Sur son:\\n\")\n",
        "productos_agrupados_amesur"
      ]
    },
    {
      "cell_type": "code",
      "execution_count": null,
      "id": "83774a84",
      "metadata": {
        "colab": {
          "base_uri": "https://localhost:8080/",
          "height": 1000
        },
        "id": "83774a84",
        "outputId": "89a6dc73-d447-473c-d6c9-4d522c915254"
      },
      "outputs": [
        {
          "name": "stdout",
          "output_type": "stream",
          "text": [
            "Los productos que emiten mas GHG en el mundo son:\n",
            "\n"
          ]
        },
        {
          "data": {
            "text/plain": [
              "Producto\n",
              "Energía                                                 4.176225e+07\n",
              "IPPU                                                    4.464238e+06\n",
              "Conversión neta de bosques                              2.945053e+06\n",
              "Consumo de alimentos en los hogares                     1.634385e+06\n",
              "Transformación de alimentos                             1.247063e+06\n",
              "Suelos orgánicos drenados (CO2)                         8.335987e+05\n",
              "On-farm energy use                                      5.188467e+05\n",
              "Fabricación de fertilizantes                            4.925508e+05\n",
              "Uso de electricidad en agrícola                         4.854219e+05\n",
              "Envasado alimentario                                    4.655665e+05\n",
              "Venta de alimentos                                      3.198507e+05\n",
              "Desechos                                                1.224107e+05\n",
              "Fermentación entérica                                   1.084617e+05\n",
              "Eliminación de desechos de sistemas agroalimentarios    9.259153e+04\n",
              "Otro                                                    7.688787e+04\n",
              "Fabricación de pesticidas                               7.542900e+04\n",
              "Incendios en suelos de turba                            3.536995e+04\n",
              "Cultivo del arroz                                       2.983457e+04\n",
              "Gestión del estiércol                                   1.168035e+04\n",
              "On-farm Heat Use                                        1.055000e+04\n",
              "Incendios de sabana                                     4.434258e+03\n",
              "Incendios forestales                                    4.376566e+03\n",
              "Incendios en los bosques tropicales húmedos             3.265422e+03\n",
              "Estiércol depositado en las pasturas                    3.118755e+03\n",
              "Fertilizantes sintéticos                                2.897849e+03\n",
              "Quemado de residuos agrícolas                           1.288930e+03\n",
              "Residuos agrícolas                                      8.491700e+02\n",
              "Estiércol aplicado a los suelos                         7.278198e+02\n",
              "Suelos orgánicos drenados (N2O)                         3.514859e+02\n",
              "Tierras forestales                                     -3.288750e+06\n",
              "Name: Valor, dtype: float64"
            ]
          },
          "execution_count": 17,
          "metadata": {},
          "output_type": "execute_result"
        }
      ],
      "source": [
        "# 10. Y en el mundo..., que productos emiten más GHG y cuales menos (mostrar todos)?\n",
        "productos_agrupados_mundo = ghg_mundo.groupby('Producto').Valor.sum().sort_values(ascending=False)\n",
        "print(\"Los productos que emiten mas GHG en el mundo son:\\n\")\n",
        "productos_agrupados_mundo"
      ]
    },
    {
      "cell_type": "code",
      "execution_count": null,
      "id": "3c27baec",
      "metadata": {
        "id": "3c27baec"
      },
      "outputs": [],
      "source": [
        "# 11. En América del Sur, cuales son los paises que más y menos emiten?\n",
        "emision_amesur = ghg_amesur.groupby('Area').Valor.sum()"
      ]
    },
    {
      "cell_type": "code",
      "execution_count": null,
      "id": "oIlVydmv9Sfv",
      "metadata": {
        "colab": {
          "base_uri": "https://localhost:8080/",
          "height": 464
        },
        "id": "oIlVydmv9Sfv",
        "outputId": "eae0fa78-8b37-4b4e-85d8-0599b0658c95"
      },
      "outputs": [
        {
          "name": "stdout",
          "output_type": "stream",
          "text": [
            "Los paises que mas emiten en America del Sur son:\n",
            "\n"
          ]
        },
        {
          "data": {
            "text/plain": [
              "Area\n",
              "Brasil                                  958774.8104\n",
              "Argentina                               253346.1667\n",
              "Colombia                                195829.0754\n",
              "Venezuela (República Bolivariana de)    146956.2302\n",
              "Perú                                    144705.9825\n",
              "Bolivia (Estado Plurinacional de)        92406.0481\n",
              "Ecuador                                  68195.9969\n",
              "Paraguay                                 54953.1161\n",
              "Chile                                    31320.3616\n",
              "Guyana                                   16133.9225\n",
              "Name: Valor, dtype: float64"
            ]
          },
          "execution_count": 19,
          "metadata": {},
          "output_type": "execute_result"
        }
      ],
      "source": [
        "print(\"Los paises que mas emiten en America del Sur son:\\n\")\n",
        "emision_amesur.sort_values(ascending=False).head(10)"
      ]
    },
    {
      "cell_type": "code",
      "execution_count": null,
      "id": "m7GmGEgk9UOK",
      "metadata": {
        "colab": {
          "base_uri": "https://localhost:8080/",
          "height": 464
        },
        "id": "m7GmGEgk9UOK",
        "outputId": "9314c3e6-36e9-4d10-d767-ac744a6eb385"
      },
      "outputs": [
        {
          "name": "stdout",
          "output_type": "stream",
          "text": [
            "Los paises que menos emiten en America del Sur son:\n",
            "\n"
          ]
        },
        {
          "data": {
            "text/plain": [
              "Area\n",
              "Guayana Francesa                          2782.0095\n",
              "Uruguay                                   9080.5261\n",
              "Suriname                                 12468.7653\n",
              "Guyana                                   16133.9225\n",
              "Chile                                    31320.3616\n",
              "Paraguay                                 54953.1161\n",
              "Ecuador                                  68195.9969\n",
              "Bolivia (Estado Plurinacional de)        92406.0481\n",
              "Perú                                    144705.9825\n",
              "Venezuela (República Bolivariana de)    146956.2302\n",
              "Name: Valor, dtype: float64"
            ]
          },
          "execution_count": 20,
          "metadata": {},
          "output_type": "execute_result"
        }
      ],
      "source": [
        "print(\"Los paises que menos emiten en America del Sur son:\\n\")\n",
        "emision_amesur.sort_values(ascending=True).head(10)"
      ]
    }
  ],
  "metadata": {
    "colab": {
      "provenance": [],
      "include_colab_link": true
    },
    "kernelspec": {
      "display_name": "Python 3",
      "language": "python",
      "name": "python3"
    },
    "language_info": {
      "codemirror_mode": {
        "name": "ipython",
        "version": 3
      },
      "file_extension": ".py",
      "mimetype": "text/x-python",
      "name": "python",
      "nbconvert_exporter": "python",
      "pygments_lexer": "ipython3",
      "version": "3.12.3"
    }
  },
  "nbformat": 4,
  "nbformat_minor": 5
}