{
  "nbformat": 4,
  "nbformat_minor": 0,
  "metadata": {
    "colab": {
      "provenance": [],
      "authorship_tag": "ABX9TyNuLb+Hz4zkhXjAB3Jjr+sj",
      "include_colab_link": true
    },
    "kernelspec": {
      "name": "python3",
      "display_name": "Python 3"
    },
    "language_info": {
      "name": "python"
    }
  },
  "cells": [
    {
      "cell_type": "markdown",
      "metadata": {
        "id": "view-in-github",
        "colab_type": "text"
      },
      "source": [
        "<a href=\"https://colab.research.google.com/github/maty91ok/Licienciatura-Ciencia-de-Datos/blob/main/Final_trabajo_practico_Canevaro_Mat%C3%ADas_v0_0_2.ipynb\" target=\"_parent\"><img src=\"https://colab.research.google.com/assets/colab-badge.svg\" alt=\"Open In Colab\"/></a>"
      ]
    },
    {
      "cell_type": "markdown",
      "source": [
        "Final\n",
        "Versión: v0.0.2"
      ],
      "metadata": {
        "id": "28N6K8_Nz1eZ"
      }
    },
    {
      "cell_type": "markdown",
      "source": [
        "1. Crear la estructura de directorios"
      ],
      "metadata": {
        "id": "ecnmXmJ4yWF2"
      }
    },
    {
      "cell_type": "code",
      "execution_count": 10,
      "metadata": {
        "id": "bbmpsPukyQPa"
      },
      "outputs": [],
      "source": [
        "import os\n",
        "\n",
        "# Crear la estructura de directorios\n",
        "os.makedirs(\"tp_final/data/interim\", exist_ok=True)\n",
        "os.makedirs(\"tp_final/data/processed\", exist_ok=True)\n",
        "os.makedirs(\"tp_final/data/raw\", exist_ok=True)\n",
        "\n",
        "# Comentario: Se crean los directorios necesarios para almacenar los datos en diferentes etapas del procesamiento."
      ]
    },
    {
      "cell_type": "markdown",
      "source": [
        "2. Selección del Dataset\n"
      ],
      "metadata": {
        "id": "qKoPUvAqybPQ"
      }
    },
    {
      "cell_type": "code",
      "source": [
        "import requests\n",
        "\n",
        "# Descargar el dataset desde Google Drive y guardarlo en tp_final/data/raw\n",
        "dataset_url = \"https://drive.google.com/uc?export=download&id=1CWChGw4K-5CRvEDEc3-HCNKvwvODJZdO\"\n",
        "dataset_path = \"tp_final/data/raw/SELECCIONADO-INTERNOS-SPF-CONDENADOS-202403.CSV\"\n",
        "\n",
        "response = requests.get(dataset_url)\n",
        "with open(dataset_path, 'wb') as file:\n",
        "    file.write(response.content)\n",
        "\n",
        "# Documentar el dataset elegido y las razones de su selección\n",
        "dataset_info = \"\"\"\n",
        "Nombre del Dataset: Justicia internos servicio penitenciario federal\n",
        "URL de Descarga: https://drive.google.com/file/d/1CWChGw4K-5CRvEDEc3-HCNKvwvODJZdO/view\n",
        "Información: Este dataset contiene información sobre los internos del servicio penitenciario federal, incluyendo datos personales, situación procesal, delitos, penas, etc. Se seleccionó este dataset por su relevancia en el análisis de la justicia y el sistema penitenciario.\n",
        "\"\"\"\n",
        "\n",
        "# Comentario: Se descarga el dataset desde Google Drive y se guarda en el directorio raw. Se documenta la elección del dataset."
      ],
      "metadata": {
        "id": "uE7VUoJTyc9M"
      },
      "execution_count": 11,
      "outputs": []
    },
    {
      "cell_type": "markdown",
      "source": [
        "3. Carga de Datos a una Base de Datos\n"
      ],
      "metadata": {
        "id": "KCYuv8MhyfQD"
      }
    },
    {
      "cell_type": "code",
      "source": [
        "import pandas as pd\n",
        "from sqlalchemy import create_engine, MetaData, Table, Column, Integer, String, Date, ForeignKey\n",
        "from sqlalchemy.orm import sessionmaker\n",
        "\n",
        "# Crear una base de datos utilizando SQLAlchemy\n",
        "engine = create_engine('sqlite:///tp_final/data/interim/internos.db')\n",
        "metadata = MetaData()\n",
        "\n",
        "# Diseñar las tablas necesarias para almacenar los datos del dataset\n",
        "\n",
        "# Tabla de provincias\n",
        "provincias_table = Table('provincias', metadata,\n",
        "    Column('id', Integer, primary_key=True),\n",
        "    Column('nombre', String)\n",
        ")\n",
        "\n",
        "# Tabla de internos\n",
        "internos_table = Table('internos', metadata,\n",
        "    Column('id', Integer, primary_key=True),\n",
        "    Column('unidad', String),\n",
        "    Column('lpu', Integer),\n",
        "    Column('apellido', String),\n",
        "    Column('nombre', String),\n",
        "    Column('situacion_procesal', String),\n",
        "    Column('delito', String),\n",
        "    Column('edad', Integer),\n",
        "    Column('nacionalidad', String),\n",
        "    Column('genero', String),\n",
        "    Column('jurisdiccion', String),\n",
        "    Column('fecha_sentencia_firme', Date),\n",
        "    Column('anios_pena', Integer),\n",
        "    Column('meses_pena', Integer),\n",
        "    Column('dias_pena', Integer),\n",
        "    Column('tipo_pena', String),\n",
        "    Column('estado_civil', String),\n",
        "    Column('profesion', String),\n",
        "    Column('subgrupo', String),\n",
        "    Column('fecha_nacimiento', Date),\n",
        "    Column('provincia_nacimiento_id', Integer, ForeignKey('provincias.id')),\n",
        "    Column('unidad_provincia_id', Integer, ForeignKey('provincias.id'))\n",
        ")\n",
        "\n",
        "# Crear las tablas en la base de datos\n",
        "metadata.create_all(engine)\n",
        "\n",
        "# Cargar los datos del dataset en la base de datos\n",
        "df = pd.read_csv(dataset_path)\n",
        "\n",
        "# Extraer y cargar datos de provincias\n",
        "provincias = pd.concat([df['provincia_nacimiento'], df['unidad_provincia']]).drop_duplicates().dropna().reset_index(drop=True)\n",
        "provincias_df = pd.DataFrame(provincias, columns=['nombre'])\n",
        "provincias_df.to_sql('provincias', con=engine, if_exists='append', index=False)\n",
        "\n",
        "# Mapear nombres de provincias a IDs\n",
        "provincias_df = pd.read_sql('provincias', con=engine)\n",
        "provincia_map = provincias_df.set_index('nombre')['id'].to_dict()\n",
        "\n",
        "# Reemplazar nombres de provincias por IDs en el dataframe original\n",
        "df['provincia_nacimiento_id'] = df['provincia_nacimiento'].map(provincia_map)\n",
        "df['unidad_provincia_id'] = df['unidad_provincia'].map(provincia_map)\n",
        "\n",
        "# Eliminar columnas de nombres de provincias\n",
        "df = df.drop(columns=['provincia_nacimiento', 'unidad_provincia'])\n",
        "\n",
        "# Cargar datos de internos\n",
        "df.to_sql('internos', con=engine, if_exists='append', index=False)\n",
        "\n",
        "# Comentario: Se crean múltiples tablas en la base de datos SQLite para almacenar los datos del dataset. Se define la estructura de las tablas y las relaciones entre ellas. Luego, se cargan los datos en las tablas correspondientes."
      ],
      "metadata": {
        "colab": {
          "base_uri": "https://localhost:8080/"
        },
        "id": "-HP3eLq-5HMK",
        "outputId": "d3e52a30-e853-4630-bc92-49fff2d6b7cc"
      },
      "execution_count": 16,
      "outputs": [
        {
          "output_type": "execute_result",
          "data": {
            "text/plain": [
              "6423"
            ]
          },
          "metadata": {},
          "execution_count": 16
        }
      ]
    },
    {
      "cell_type": "markdown",
      "source": [
        "4. Extracción de Datos\n"
      ],
      "metadata": {
        "id": "Q1eKQ_pSyuUV"
      }
    },
    {
      "cell_type": "code",
      "source": [
        "# Crear una sesión\n",
        "Session = sessionmaker(bind=engine)\n",
        "session = Session()\n",
        "\n",
        "# Realizar una consulta a la base de datos\n",
        "query = session.query(internos_table).filter(internos_table.c.delito == 'Contra las Personas')\n",
        "result = query.all()\n",
        "\n",
        "# Guardar el resultado de la consulta en un archivo en tp_final/data/interim\n",
        "result_df = pd.DataFrame(result)\n",
        "result_df.to_csv(\"tp_final/data/interim/consulta.csv\", index=False)\n",
        "\n",
        "# Comentario: Se realiza una consulta a la base de datos para obtener un subconjunto de los datos y se guarda el resultado en el directorio interim."
      ],
      "metadata": {
        "id": "MLX0gxxEyw_2"
      },
      "execution_count": 17,
      "outputs": []
    },
    {
      "cell_type": "markdown",
      "source": [
        "5. Procesamiento del Dataset\n"
      ],
      "metadata": {
        "id": "glAEActOy1jS"
      }
    },
    {
      "cell_type": "code",
      "source": [
        "# Leer el archivo generado con Pandas\n",
        "df_interim = pd.read_csv(\"tp_final/data/interim/consulta.csv\")\n",
        "\n",
        "# Aplicar filtros para eliminar registros del dataset utilizando expresiones regulares\n",
        "df_filtered = df_interim[df_interim['edad'] > 50]\n",
        "df_filtered = df_filtered[df_filtered['nacionalidad'].str.contains('Argentina', regex=True)]\n",
        "\n",
        "# Guardar el dataset procesado en un archivo en tp_final/data/processed\n",
        "df_filtered.to_csv(\"tp_final/data/processed/dataset_procesado.csv\", index=False)\n",
        "\n",
        "# Comentario: Se leen los datos del archivo generado en el punto anterior, se aplican filtros para eliminar registros no deseados y se guarda el dataset procesado en el directorio processed."
      ],
      "metadata": {
        "id": "k1y25RPZy832"
      },
      "execution_count": 18,
      "outputs": []
    },
    {
      "cell_type": "markdown",
      "source": [
        "6. Visualización de Datos\n"
      ],
      "metadata": {
        "id": "9R-s_ObjzBWm"
      }
    },
    {
      "cell_type": "code",
      "source": [
        "import matplotlib.pyplot as plt\n",
        "import numpy as np\n",
        "\n",
        "# Filtrar el rango de edad de 18 a 80 años\n",
        "df_filtered = df_filtered[(df_filtered['edad'] >= 18) & (df_filtered['edad'] <= 80)]\n",
        "\n",
        "# Calcular la frecuencia y los porcentajes\n",
        "counts, bins = np.histogram(df_filtered['edad'], bins=np.arange(18, 81, 5))\n",
        "percentages = counts / counts.sum() * 100\n",
        "\n",
        "# Crear el gráfico de barras\n",
        "plt.figure(figsize=(12, 8))\n",
        "bar_width = 4  # Ancho de las barras\n",
        "bar_positions = bins[:-1] + (bins[1] - bins[0]) / 2  # Posición de las barras\n",
        "\n",
        "plt.bar(bar_positions, counts, width=bar_width, edgecolor='black', alpha=0.7)\n",
        "\n",
        "# Añadir porcentajes encima de las barras\n",
        "for i in range(len(counts)):\n",
        "    plt.text(bar_positions[i], counts[i], f'{percentages[i]:.1f}%', ha='center', va='bottom')\n",
        "\n",
        "plt.title('Distribución de Edad de Internos (18 a 80 años)', fontsize=15)\n",
        "plt.xlabel('Edad', fontsize=12)\n",
        "plt.ylabel('Frecuencia', fontsize=12)\n",
        "plt.grid(axis='y', alpha=0.75)\n",
        "plt.xticks(np.arange(18, 81, 5))\n",
        "plt.tight_layout()\n",
        "plt.savefig(\"tp_final/data/processed/grafico_edad.png\")\n",
        "plt.show()\n",
        "\n",
        "# Comentario: Se crea un gráfico de barras para visualizar la distribución de la edad de los internos en el rango de 18 a 80 años, incluyendo los porcentajes encima de las barras para una mejor interpretación."
      ],
      "metadata": {
        "colab": {
          "base_uri": "https://localhost:8080/",
          "height": 807
        },
        "id": "6P_K2yqj5QIF",
        "outputId": "9568f48b-90d3-4972-9568-3fe03cf89367"
      },
      "execution_count": 19,
      "outputs": [
        {
          "output_type": "display_data",
          "data": {
            "text/plain": [
              "<Figure size 1200x800 with 1 Axes>"
            ],
            "image/png": "[encoded data removed]"
          },
          "metadata": {}
        }
      ]
    }
  ]
}