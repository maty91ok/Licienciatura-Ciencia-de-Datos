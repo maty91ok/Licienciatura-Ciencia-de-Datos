{
  "nbformat": 4,
  "nbformat_minor": 0,
  "metadata": {
    "colab": {
      "provenance": [],
      "include_colab_link": true
    },
    "kernelspec": {
      "name": "python3",
      "display_name": "Python 3"
    },
    "language_info": {
      "name": "python"
    }
  },
  "cells": [
    {
      "cell_type": "markdown",
      "metadata": {
        "id": "view-in-github",
        "colab_type": "text"
      },
      "source": [
        "<a href=\"https://colab.research.google.com/github/maty91ok/Licienciatura-Ciencia-de-Datos/blob/main/trabajo_practico_02_HERRAMIENTAS%20DE%20SOFTWARE%20PARA%20AN%C3%81LISIS%20DE%20DATOS_Canevaro_Mat%C3%ADas.ipynb\" target=\"_parent\"><img src=\"https://colab.research.google.com/assets/colab-badge.svg\" alt=\"Open In Colab\"/></a>"
      ]
    },
    {
      "cell_type": "markdown",
      "source": [
        "# Trabajo Práctico 2"
      ],
      "metadata": {
        "id": "GZ3I6tMKimmf"
      }
    },
    {
      "cell_type": "markdown",
      "metadata": {
        "id": "WI7TRxkc3gW4"
      },
      "source": [
        "# Ejercicio 1\n",
        "\n",
        "Vamos a trabajar con el dataset [titanic.csv](https://drive.google.com/file/d/1X0hJDYfmBfB88t1A1DeXzPc5c_a0-YVu/view?usp=share_link) desde Google Drive."
      ]
    },
    {
      "cell_type": "markdown",
      "source": [
        "## Punto 1\n",
        "\n",
        "Descargar y levantar el dataset"
      ],
      "metadata": {
        "id": "5C1qxZkP7uSi"
      }
    },
    {
      "cell_type": "code",
      "source": [
        "!pip install pandas"
      ],
      "metadata": {
        "id": "t2vSzl7uoec2"
      },
      "execution_count": null,
      "outputs": []
    },
    {
      "cell_type": "code",
      "source": [
        "import gdown\n",
        "import pandas as pd\n"
      ],
      "metadata": {
        "id": "gkQXD-6G6ino"
      },
      "execution_count": null,
      "outputs": []
    },
    {
      "cell_type": "code",
      "source": [
        "df = pd.read_csv('df_titanic.csv')\n",
        "df.head()"
      ],
      "metadata": {
        "id": "inOWhoQNZTBX"
      },
      "execution_count": null,
      "outputs": []
    },
    {
      "cell_type": "markdown",
      "source": [
        "## Punto 2\n",
        "\n",
        "Mostrar por pantalla los nombres (columnas Name) ordenados alfabéticamente y segmentado por clase (columna Pclass) y numerados desde 0 para cada clase.\n",
        "\n",
        "Ejemplo:\n",
        "\n",
        "Clase x\n",
        "\n",
        "0 nombre\n",
        "\n",
        "1 nombre\n",
        "\n",
        "...\n",
        "\n",
        "\n",
        "Clase y\n",
        "\n",
        "0 nombre\n",
        "\n",
        "1 nombre\n",
        "\n",
        "..."
      ],
      "metadata": {
        "id": "tLWlUqGF7XiY"
      }
    },
    {
      "cell_type": "code",
      "source": [
        "import pandas as pd\n",
        "\n",
        "# Cargar el dataset titanic.csv\n",
        "df = pd.read_csv('df_titanic.csv')\n",
        "\n",
        "# Ordenar los nombres alfabéticamente\n",
        "df_sorted = df.sort_values(by='Name')\n",
        "\n",
        "# Agrupar por clase y mostrar los nombres numerados\n",
        "for pclass, group in df_sorted.groupby('Pclass'):\n",
        "    print(f\"Clase {pclass}\")\n",
        "    for i, name in enumerate(group['Name']):\n",
        "        print(f\"{i} {name}\")\n",
        "    print(\"\\n\")"
      ],
      "metadata": {
        "id": "q-J5qFNJoe-t"
      },
      "execution_count": null,
      "outputs": []
    },
    {
      "cell_type": "markdown",
      "source": [
        "\n",
        "## Punto 3\n",
        "\n",
        "Mostrar por pantalla el porcentaje de personas que sobrevivieron y murieron  (columna Survived).\n",
        "\n",
        "El valor 1 indica que está sobrevivio y 0 no.\n"
      ],
      "metadata": {
        "id": "9b9-F7m2DeHP"
      }
    },
    {
      "cell_type": "code",
      "source": [
        "import pandas as pd\n",
        "\n",
        "# Cargar el dataset titanic.csv\n",
        "df = pd.read_csv('df_titanic.csv')\n",
        "\n",
        "# Calcular el porcentaje de personas que sobrevivieron y murieron\n",
        "total_personas = len(df)\n",
        "sobrevivieron = df['Survived'].sum()\n",
        "murieron = total_personas - sobrevivieron\n",
        "\n",
        "porcentaje_sobrevivieron = (sobrevivieron / total_personas) * 100\n",
        "porcentaje_murieron = (murieron / total_personas) * 100\n",
        "\n",
        "# Mostrar los resultados por pantalla\n",
        "print(f\"Porcentaje de personas que sobrevivieron: {porcentaje_sobrevivieron:.2f}%\")\n",
        "print(f\"Porcentaje de personas que murieron: {porcentaje_murieron:.2f}%\")"
      ],
      "metadata": {
        "id": "Fr6eVCK0ofnO"
      },
      "execution_count": null,
      "outputs": []
    },
    {
      "cell_type": "markdown",
      "source": [
        "## Punto 4\n",
        "\n",
        "Mostrar por pantalla el porcentaje de personas que sobrevivieron (columna Survived) en cada clase (columna Pclass).\n",
        "\n",
        "El valor 1 indica que sobrevivio y 0 no."
      ],
      "metadata": {
        "id": "V25Yoo7oFyKC"
      }
    },
    {
      "cell_type": "code",
      "source": [
        "import pandas as pd\n",
        "\n",
        "# Cargar el dataset titanic.csv\n",
        "df = pd.read_csv('df_titanic.csv')\n",
        "\n",
        "# Agrupar por clase y calcular el porcentaje de sobrevivientes en cada clase\n",
        "porcentaje_sobrevivientes_por_clase = df.groupby('Pclass')['Survived'].mean() * 100\n",
        "\n",
        "# Mostrar los resultados por pantalla\n",
        "for pclass, porcentaje in porcentaje_sobrevivientes_por_clase.items():\n",
        "    print(f\"Porcentaje de sobrevivientes en la clase {pclass}: {porcentaje:.2f}%\")"
      ],
      "metadata": {
        "id": "xKTllD-3ogM9"
      },
      "execution_count": null,
      "outputs": []
    },
    {
      "cell_type": "markdown",
      "source": [
        "## Punto 5\n",
        "\n",
        "Realizar un gráfico de barras horizontal con la cantidad de personas según la edad (columna Age). La franja es de 10 años, es decir, 0-9, 10-19, ..., 90-99."
      ],
      "metadata": {
        "id": "cGGoqxjjvhum"
      }
    },
    {
      "cell_type": "code",
      "source": [
        "import pandas as pd\n",
        "import matplotlib.pyplot as plt\n",
        "\n",
        "# Cargar el dataset titanic.csv\n",
        "df = pd.read_csv('df_titanic.csv')\n",
        "\n",
        "# Crear las franjas de edad\n",
        "bins = [0, 10, 20, 30, 40, 50, 60, 70, 80, 90, 100]\n",
        "labels = ['0-9', '10-19', '20-29', '30-39', '40-49', '50-59', '60-69', '70-79', '80-89', '90-99']\n",
        "df['AgeGroup'] = pd.cut(df['Age'], bins=bins, labels=labels, right=False)\n",
        "\n",
        "# Contar la cantidad de personas en cada franja de edad\n",
        "age_group_counts = df['AgeGroup'].value_counts().sort_index()\n",
        "\n",
        "# Graficar los resultados\n",
        "age_group_counts.plot(kind='barh', color='skyblue')\n",
        "plt.xlabel('Cantidad de Personas')\n",
        "plt.ylabel('Franja de Edad')\n",
        "plt.title('Cantidad de Personas según la Edad en Franjas de 10 Años')\n",
        "plt.show()"
      ],
      "metadata": {
        "id": "7rekgvRgogye"
      },
      "execution_count": null,
      "outputs": []
    },
    {
      "cell_type": "markdown",
      "source": [
        "# Ejercicio 2\n",
        "\n",
        "Vamos a trabajar con el dataset [df_total.csv](https://drive.google.com/file/d/1lQv5L0uF7Gu4miEiQaxEMP2JHDLPHKIc/view?usp=share_link) desde Google Drive.\n"
      ],
      "metadata": {
        "id": "FYehCoBkFALp"
      }
    },
    {
      "cell_type": "markdown",
      "source": [
        "## Punto 1\n",
        "\n",
        "Descargar y levantar el dataset"
      ],
      "metadata": {
        "id": "0DAFMSuAeMSH"
      }
    },
    {
      "cell_type": "code",
      "source": [
        "import gdown\n",
        "import pandas as pd"
      ],
      "metadata": {
        "id": "HXFOpb-yohm2"
      },
      "execution_count": null,
      "outputs": []
    },
    {
      "cell_type": "code",
      "source": [
        "df = pd.read_csv('df_total.csv')\n",
        "df.head()"
      ],
      "metadata": {
        "id": "lhac2CS4gBCU"
      },
      "execution_count": null,
      "outputs": []
    },
    {
      "cell_type": "markdown",
      "source": [
        "## Punto 2\n",
        "\n",
        "Crear un columna `person` y completarla con la búsqueda de la  entidad persona dentro de la columna `news`. La entidad persona es un nombre y apellido.\n",
        "\n",
        "Tiene que ser una aproximación. No va a ser perfecta por falta de contexto."
      ],
      "metadata": {
        "id": "P_eUuT5lfN6R"
      }
    },
    {
      "cell_type": "code",
      "source": [
        "pip install spacy\n"
      ],
      "metadata": {
        "id": "FpDZ-xZBoiF2"
      },
      "execution_count": null,
      "outputs": []
    },
    {
      "cell_type": "code",
      "source": [
        "import pandas as pd\n",
        "import spacy\n",
        "\n",
        "# Cargar el dataset\n",
        "df = pd.read_csv('df_total.csv')\n",
        "\n",
        "# Cargar el modelo de spaCy\n",
        "nlp = spacy.load('en_core_web_sm')\n",
        "\n",
        "# Función para extraer nombres de personas\n",
        "def extract_person(text):\n",
        "    doc = nlp(text)\n",
        "    persons = [ent.text for ent in doc.ents if ent.label_ == 'PERSON']\n",
        "    return ', '.join(persons) if persons else None\n",
        "\n",
        "# Crear la nueva columna 'person' con los nombres extraídos\n",
        "df['person'] = df['news'].apply(extract_person)\n",
        "\n",
        "# Mostrar las primeras filas del DataFrame\n",
        "print(df.head())"
      ],
      "metadata": {
        "id": "g4IHerZJhF_N"
      },
      "execution_count": null,
      "outputs": []
    },
    {
      "cell_type": "markdown",
      "source": [
        "## Punto 3\n",
        "\n",
        "Crear un columna `domain` y completarla con el dominio del sitio dentro de la columna `url`. Un dominio es `larepublica.co`."
      ],
      "metadata": {
        "id": "25g6rDedfWmF"
      }
    },
    {
      "cell_type": "code",
      "source": [
        "pip install tldextract"
      ],
      "metadata": {
        "id": "Q_nqdkQ9oiie"
      },
      "execution_count": null,
      "outputs": []
    },
    {
      "cell_type": "code",
      "source": [
        "import pandas as pd\n",
        "import tldextract\n",
        "\n",
        "# Cargar el dataset\n",
        "df = pd.read_csv('df_total.csv')\n",
        "\n",
        "# Función para extraer el dominio de una URL\n",
        "def extract_domain(url):\n",
        "    ext = tldextract.extract(url)\n",
        "    return f\"{ext.domain}.{ext.suffix}\"\n",
        "\n",
        "# Crear la nueva columna 'domain' con los dominios extraídos\n",
        "df['domain'] = df['url'].apply(extract_domain)\n",
        "\n",
        "# Mostrar las primeras filas del DataFrame\n",
        "print(df.head())"
      ],
      "metadata": {
        "id": "ULK3wwhmkYaT"
      },
      "execution_count": null,
      "outputs": []
    },
    {
      "cell_type": "markdown",
      "source": [
        "## Punto 4\n",
        "\n",
        "Crear una columna llamada `words` y contabilizar la cantidad de palabras que hay en la columna `news`."
      ],
      "metadata": {
        "id": "Iv989MBQfbZF"
      }
    },
    {
      "cell_type": "code",
      "source": [
        "import pandas as pd\n",
        "\n",
        "# Cargar el dataset\n",
        "df = pd.read_csv('df_total.csv')\n",
        "\n",
        "# Función para contar las palabras en un texto\n",
        "def count_words(text):\n",
        "    if pd.isna(text):\n",
        "        return 0\n",
        "    return len(text.split())\n",
        "\n",
        "# Crear la nueva columna 'words' con el conteo de palabras\n",
        "df['words'] = df['news'].apply(count_words)\n",
        "\n",
        "# Mostrar las primeras filas del DataFrame\n",
        "print(df.head())"
      ],
      "metadata": {
        "id": "_zyXuHwXoi_O"
      },
      "execution_count": null,
      "outputs": []
    },
    {
      "cell_type": "markdown",
      "source": [
        "## Punto 5\n",
        "\n",
        "Realizar un gráfico de barras donde muestre la cantidad de noticias por tipo (columna Type)."
      ],
      "metadata": {
        "id": "mFIhcIKjffd_"
      }
    },
    {
      "cell_type": "code",
      "source": [
        "pip install seaborn"
      ],
      "metadata": {
        "id": "qpcrgEhwojeA"
      },
      "execution_count": null,
      "outputs": []
    },
    {
      "cell_type": "code",
      "source": [
        "import pandas as pd\n",
        "import seaborn as sns\n",
        "import matplotlib.pyplot as plt\n",
        "\n",
        "# Cargar el dataset\n",
        "df = pd.read_csv('df_total.csv')\n",
        "\n",
        "# Contar la cantidad de noticias por tipo\n",
        "type_counts = df['Type'].value_counts()\n",
        "\n",
        "# Crear el gráfico de barras\n",
        "plt.figure(figsize=(10, 6))\n",
        "sns.barplot(x=type_counts.index, y=type_counts.values, palette='viridis')\n",
        "plt.title('Cantidad de noticias por tipo')\n",
        "plt.xlabel('Tipo')\n",
        "plt.ylabel('Cantidad de noticias')\n",
        "plt.xticks(rotation=45)\n",
        "plt.show()"
      ],
      "metadata": {
        "id": "zyfQ7Z5lkv-z"
      },
      "execution_count": null,
      "outputs": []
    }
  ]
}