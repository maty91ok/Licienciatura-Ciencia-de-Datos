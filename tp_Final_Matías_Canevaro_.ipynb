{
  "nbformat": 4,
  "nbformat_minor": 0,
  "metadata": {
    "colab": {
      "provenance": [],
      "gpuType": "T4",
      "toc_visible": true,
      "mount_file_id": "1ceQbzypk15XqjRUK1nb0lhnL1AKJn0LK",
      "authorship_tag": "ABX9TyMKf5OGG/c/uN2a7DQH1i6N",
      "include_colab_link": true
    },
    "kernelspec": {
      "name": "python3",
      "display_name": "Python 3"
    },
    "language_info": {
      "name": "python"
    },
    "accelerator": "GPU"
  },
  "cells": [
    {
      "cell_type": "markdown",
      "metadata": {
        "id": "view-in-github",
        "colab_type": "text"
      },
      "source": [
        "<a href=\"https://colab.research.google.com/github/maty91ok/Licienciatura-Ciencia-de-Datos/blob/main/tp_Final_Mat%C3%ADas_Canevaro_.ipynb\" target=\"_parent\"><img src=\"https://colab.research.google.com/assets/colab-badge.svg\" alt=\"Open In Colab\"/></a>"
      ]
    },
    {
      "cell_type": "markdown",
      "source": [
        "Trabajo Practico Final"
      ],
      "metadata": {
        "id": "KAPKJWjcblV6"
      }
    },
    {
      "cell_type": "markdown",
      "source": [
        "Selección del Dataset"
      ],
      "metadata": {
        "id": "C3fajUaFXD4M"
      }
    },
    {
      "cell_type": "code",
      "source": [
        "from bs4 import BeautifulSoup\n",
        "import re\n",
        "import requests\n",
        "\n",
        "def descarga_dataset(url:str, nombre_del_archivo: str):\n",
        "    matches = re.findall(r'/file/d/([a-zA-Z0-9_-]+)', url)\n",
        "    if matches:\n",
        "        file_id = matches[0]\n",
        "        url_download = f\"https://drive.google.com/uc?id={file_id}\"\n",
        "        try:\n",
        "            response = requests.get(url=url_download)\n",
        "            page = BeautifulSoup(response.content, \"html.parser\")\n",
        "            url = page.find(\"form\", id=\"download-form\").get(\"action\")\n",
        "        except Exception:\n",
        "            url = url_download\n",
        "        !wget {url} -O {nombre_del_archivo}\n",
        "    else:\n",
        "        print(\"File ID not found\")\n",
        "\n",
        "descarga_dataset(\n",
        "    url=\"https://drive.google.com/file/d/1aRJaWKQFJq-GoY1kEcHC5sV3_a58nrdN/view?usp=drive_link\",\n",
        "    nombre_del_archivo=\"tp_final/data/raw/dataset.csv\"\n",
        ")\n"
      ],
      "metadata": {
        "colab": {
          "base_uri": "https://localhost:8080/"
        },
        "id": "_TKCwFRAHhVW",
        "outputId": "68e35b05-5100-4c94-b911-9ea26f17c901"
      },
      "execution_count": null,
      "outputs": [
        {
          "output_type": "stream",
          "name": "stdout",
          "text": [
            "--2024-11-26 02:49:27--  https://drive.google.com/uc?id=1aRJaWKQFJq-GoY1kEcHC5sV3_a58nrdN\n",
            "Resolving drive.google.com (drive.google.com)... 142.250.107.139, 142.250.107.100, 142.250.107.102, ...\n",
            "Connecting to drive.google.com (drive.google.com)|142.250.107.139|:443... connected.\n",
            "HTTP request sent, awaiting response... 303 See Other\n",
            "Location: https://drive.usercontent.google.com/download?id=1aRJaWKQFJq-GoY1kEcHC5sV3_a58nrdN [following]\n",
            "--2024-11-26 02:49:27--  https://drive.usercontent.google.com/download?id=1aRJaWKQFJq-GoY1kEcHC5sV3_a58nrdN\n",
            "Resolving drive.usercontent.google.com (drive.usercontent.google.com)... 142.250.99.132, 2607:f8b0:400e:c0c::84\n",
            "Connecting to drive.usercontent.google.com (drive.usercontent.google.com)|142.250.99.132|:443... connected.\n",
            "HTTP request sent, awaiting response... 200 OK\n",
            "Length: 7205918 (6.9M) [application/octet-stream]\n",
            "Saving to: ‘tp_final/data/raw/dataset.csv’\n",
            "\n",
            "tp_final/data/raw/d 100%[===================>]   6.87M  --.-KB/s    in 0.04s   \n",
            "\n",
            "2024-11-26 02:49:29 (180 MB/s) - ‘tp_final/data/raw/dataset.csv’ saved [7205918/7205918]\n",
            "\n"
          ]
        }
      ]
    },
    {
      "cell_type": "markdown",
      "source": [
        "Carga de Datos a una Base de Datos"
      ],
      "metadata": {
        "id": "OYAFzhJDXFwL"
      }
    },
    {
      "cell_type": "code",
      "source": [
        "from sqlalchemy import create_engine, Column, Integer, String, Float, ForeignKey\n",
        "from sqlalchemy.ext.declarative import declarative_base\n",
        "from sqlalchemy.orm import relationship, sessionmaker\n",
        "\n",
        "Base = declarative_base()\n",
        "\n",
        "class Tabla1(Base):\n",
        "    __tablename__ = 'tabla1'\n",
        "    id = Column(Integer, primary_key=True)\n",
        "    columna1 = Column(String)\n",
        "    columna2 = Column(Float)\n",
        "\n",
        "class Tabla2(Base):\n",
        "    __tablename__ = 'tabla2'\n",
        "    id = Column(Integer, primary_key=True)\n",
        "    tabla1_id = Column(Integer, ForeignKey('tabla1.id'))\n",
        "    columna3 = Column(String)\n",
        "    relacion = relationship(\"Tabla1\", back_populates=\"relacion\")\n",
        "\n",
        "Tabla1.relacion = relationship(\"Tabla2\", order_by=Tabla2.id, back_populates=\"relacion\")\n",
        "\n",
        "# Crear la base de datos\n",
        "engine = create_engine(\"sqlite:///tp_final/data/interim/database.db\")\n",
        "Base.metadata.create_all(engine)\n"
      ],
      "metadata": {
        "colab": {
          "base_uri": "https://localhost:8080/"
        },
        "id": "EYDzF9XdH0HF",
        "outputId": "4bf69971-14f7-4394-974f-3ad13e3414e6"
      },
      "execution_count": null,
      "outputs": [
        {
          "output_type": "stream",
          "name": "stderr",
          "text": [
            "<ipython-input-26-f0e19ce5f654>:5: MovedIn20Warning: The ``declarative_base()`` function is now available as sqlalchemy.orm.declarative_base(). (deprecated since: 2.0) (Background on SQLAlchemy 2.0 at: https://sqlalche.me/e/b8d9)\n",
            "  Base = declarative_base()\n"
          ]
        }
      ]
    },
    {
      "cell_type": "markdown",
      "source": [
        " Extracción de Datos"
      ],
      "metadata": {
        "id": "j4tBZqnbXJx7"
      }
    },
    {
      "cell_type": "code",
      "source": [
        "result = session.query(ExampleTable).filter(ExampleTable.column2 > 10).all()\n",
        "filtered_data = pd.DataFrame([(r.id, r.column1, r.column2) for r in result], columns=['id', 'column1', 'column2'])\n",
        "filtered_data.to_csv('tp_final/data/interim/filtered_data.csv', index=False)\n"
      ],
      "metadata": {
        "id": "2LAjZnVUXT9s"
      },
      "execution_count": null,
      "outputs": []
    },
    {
      "cell_type": "markdown",
      "source": [
        " Procesamiento del Dataset\n"
      ],
      "metadata": {
        "id": "m67KcPGBXXPM"
      }
    },
    {
      "cell_type": "code",
      "source": [
        "import pandas as pd\n",
        "\n",
        "# Leer el archivo CSV\n",
        "df = pd.read_csv('tp_final/data/raw/dataset.csv')\n",
        "\n",
        "# Mostrar los nombres de las columnas\n",
        "print(df.columns)\n",
        "\n",
        "# Mostrar las primeras filas del DataFrame\n",
        "print(df.head())"
      ],
      "metadata": {
        "colab": {
          "base_uri": "https://localhost:8080/"
        },
        "id": "3vGed_NnH7ID",
        "outputId": "c2865795-1424-423a-e007-5906b1b8c2ba"
      },
      "execution_count": null,
      "outputs": [
        {
          "output_type": "stream",
          "name": "stdout",
          "text": [
            "Index(['tramite_tipo', 'tramite_fecha', 'fecha_inscripcion_inicial',\n",
            "       'registro_seccional_codigo', 'registro_seccional_descripcion',\n",
            "       'registro_seccional_provincia', 'automotor_origen',\n",
            "       'automotor_anio_modelo', 'automotor_tipo_codigo',\n",
            "       'automotor_tipo_descripcion', 'automotor_marca_codigo',\n",
            "       'automotor_marca_descripcion', 'automotor_modelo_codigo',\n",
            "       'automotor_modelo_descripcion', 'automotor_uso_codigo',\n",
            "       'automotor_uso_descripcion', 'titular_tipo_persona',\n",
            "       'titular_domicilio_localidad', 'titular_domicilio_provincia',\n",
            "       'titular_genero', 'titular_anio_nacimiento', 'titular_pais_nacimiento',\n",
            "       'titular_porcentaje_titularidad', 'titular_domicilio_provincia_id',\n",
            "       'titular_pais_nacimiento_id'],\n",
            "      dtype='object')\n",
            "                    tramite_tipo tramite_fecha fecha_inscripcion_inicial  \\\n",
            "0  INSCRIPCION INICIAL IMPORTADO    2024-02-09                2024-02-09   \n",
            "1  INSCRIPCION INICIAL IMPORTADO    2024-02-15                2024-02-15   \n",
            "2  INSCRIPCION INICIAL IMPORTADO    2024-02-27                2024-02-27   \n",
            "3  INSCRIPCION INICIAL IMPORTADO    2024-02-27                2024-02-27   \n",
            "4  INSCRIPCION INICIAL IMPORTADO    2024-02-20                2024-02-20   \n",
            "\n",
            "   registro_seccional_codigo registro_seccional_descripcion  \\\n",
            "0                      24006                   USHUAIA Nº 3   \n",
            "1                      23008                   TUCUMAN Nº 7   \n",
            "2                       2097         CAPITAL FEDERAL Nº 097   \n",
            "3                       3001                      ANDALGALA   \n",
            "4                       1293                     PILAR Nº 4   \n",
            "\n",
            "  registro_seccional_provincia automotor_origen  automotor_anio_modelo  \\\n",
            "0             Tierra del Fuego        Importado                 2023.0   \n",
            "1                      Tucumán        Importado                 2023.0   \n",
            "2    Ciudad Autónoma de Bs.As.        Importado                 2023.0   \n",
            "3                    Catamarca        Importado                 2023.0   \n",
            "4                 Buenos Aires        Importado                 2023.0   \n",
            "\n",
            "  automotor_tipo_codigo automotor_tipo_descripcion  ...  \\\n",
            "0                    C4          PICK-UP CARROZADA  ...   \n",
            "1                    C4          PICK-UP CARROZADA  ...   \n",
            "2                    C4          PICK-UP CARROZADA  ...   \n",
            "3                    C4          PICK-UP CARROZADA  ...   \n",
            "4                    C4          PICK-UP CARROZADA  ...   \n",
            "\n",
            "  automotor_uso_descripcion titular_tipo_persona titular_domicilio_localidad  \\\n",
            "0                   Privado               Física                     USHUAIA   \n",
            "1                   Privado             Jurídica       SAN MIGUEL DE TUCUMAN   \n",
            "2                   Público             Jurídica         C.AUTONOMA DE BS.AS   \n",
            "3                   Privado               Física                   ANDALGALÁ   \n",
            "4                   Privado             Jurídica              MANUEL ALBERTI   \n",
            "\n",
            "  titular_domicilio_provincia  titular_genero titular_anio_nacimiento  \\\n",
            "0                 T.DEL FUEGO       Masculino                  1980.0   \n",
            "1                     TUCUMAN       No aplica                  2007.0   \n",
            "2         C.AUTONOMA DE BS.AS       No aplica                  2012.0   \n",
            "3                   CATAMARCA       Masculino                  1991.0   \n",
            "4                BUENOS AIRES       No aplica                  2023.0   \n",
            "\n",
            "  titular_pais_nacimiento titular_porcentaje_titularidad  \\\n",
            "0               ARGENTINA                            100   \n",
            "1               No aplica                            100   \n",
            "2               No aplica                            100   \n",
            "3               ARGENTINA                            100   \n",
            "4               No aplica                            100   \n",
            "\n",
            "  titular_domicilio_provincia_id titular_pais_nacimiento_id  \n",
            "0                             94                        ARG  \n",
            "1                             90                        NaN  \n",
            "2                              2                        NaN  \n",
            "3                             10                        ARG  \n",
            "4                              6                        NaN  \n",
            "\n",
            "[5 rows x 25 columns]\n"
          ]
        }
      ]
    },
    {
      "cell_type": "markdown",
      "source": [
        "\n",
        "Visualización de Datos\n"
      ],
      "metadata": {
        "id": "w2pLHQd9Xb0p"
      }
    },
    {
      "cell_type": "code",
      "source": [
        "df = pd.read_csv('tp_final/data/interim/filtered_data.csv')\n",
        "\n",
        "# Aplicar filtros\n",
        "df_filtered = df[df['column1'].str.contains('regex_pattern')]\n",
        "df_filtered = df_filtered[df_filtered['column2'] > 20]\n",
        "\n",
        "df_filtered.to_csv('tp_final/data/processed/processed_data.csv', index=False)\n"
      ],
      "metadata": {
        "id": "EfGKr4pQLTq2"
      },
      "execution_count": null,
      "outputs": []
    },
    {
      "cell_type": "code",
      "source": [
        "import matplotlib.pyplot as plt\n",
        "\n",
        "df_final = pd.read_csv('tp_final/data/processed/processed_data.csv')\n",
        "plt.figure(figsize=(10, 6))\n",
        "plt.hist(df_final['column2'], bins=30)\n",
        "plt.xlabel('Column2')\n",
        "plt.ylabel('Frequency')\n",
        "plt.title('Histogram of Column2')\n",
        "plt.savefig('tp_final/data/processed/histogram.png')\n",
        "plt.show()"
      ],
      "metadata": {
        "colab": {
          "base_uri": "https://localhost:8080/",
          "height": 564
        },
        "id": "UPQ6_IgILXTf",
        "outputId": "42f8fc95-a082-4621-9b46-ae5adfb1e72d"
      },
      "execution_count": null,
      "outputs": [
        {
          "output_type": "display_data",
          "data": {
            "text/plain": [
              "<Figure size 1000x600 with 1 Axes>"
            ],
            "image/png": "[encoded data removed]"
          },
          "metadata": {}
        }
      ]
    },
    {
      "cell_type": "markdown",
      "source": [],
      "metadata": {
        "id": "omnkpd0wLTfj"
      }
    }
  ]
}